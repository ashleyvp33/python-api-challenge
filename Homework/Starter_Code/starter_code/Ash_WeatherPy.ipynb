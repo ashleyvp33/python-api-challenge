{
 "cells": [
  {
   "cell_type": "markdown",
   "id": "8835ee5c-214b-4ad3-b481-3bf72a796893",
   "metadata": {},
   "source": [
    "# WeatherPy\n",
    "\n",
    "---\n",
    "\n",
    "## Starter Code to Generate Random Geographic Coordinates and a List of Cities"
   ]
  },
  {
   "cell_type": "code",
   "execution_count": 23,
   "id": "f8a35d9d-83e8-429a-8357-5cece73e4511",
   "metadata": {
    "tags": []
   },
   "outputs": [],
   "source": [
    "# Dependencies and Setup\n",
    "import matplotlib.pyplot as plt\n",
    "import pandas as pd\n",
    "import numpy as np\n",
    "import requests\n",
    "import time\n",
    "from scipy.stats import linregress\n",
    "\n",
    "# Impor the OpenWeatherMap API key\n",
    "from api_keys import weather_api_key\n",
    "\n",
    "# Import citipy to determine the cities based on latitude and longitude\n",
    "from citipy import citipy"
   ]
  },
  {
   "cell_type": "markdown",
   "id": "78cd2d47-a4ea-4d03-a969-01decf51dae0",
   "metadata": {},
   "source": [
    "### Generate the Cities List by Using the `citipy` Library"
   ]
  },
  {
   "cell_type": "code",
   "execution_count": 24,
   "id": "eff6c7fe-4f0b-48ea-b266-77d37b833258",
   "metadata": {
    "tags": []
   },
   "outputs": [
    {
     "name": "stdout",
     "output_type": "stream",
     "text": [
      "Number of cities in the list: 586\n"
     ]
    }
   ],
   "source": [
    "# Empty list for holding the latitude and longitude combinations\n",
    "lat_lngs = []\n",
    "\n",
    "# Empty list for holding the cities names\n",
    "cities = []\n",
    "\n",
    "# Range of latitudes and longitudes\n",
    "lat_range = (-90, 90)\n",
    "lng_range = (-180, 180)\n",
    "\n",
    "# Create a set of random lat and lng combinations\n",
    "lats = np.random.uniform(lat_range[0], lat_range[1], size=1500)\n",
    "lngs = np.random.uniform(lng_range[0], lng_range[1], size=1500)\n",
    "lat_lngs = zip(lats, lngs)\n",
    "\n",
    "# Identify nearest city for each lat, lng combination\n",
    "for lat_lng in lat_lngs:\n",
    "    city = citipy.nearest_city(lat_lng[0], lat_lng[1]).city_name\n",
    "    \n",
    "    # If the city is unique, then add it to a our cities list\n",
    "    if city not in cities:\n",
    "        cities.append(city)\n",
    "\n",
    "# Print the city count to confirm sufficient count\n",
    "print(f\"Number of cities in the list: {len(cities)}\")\n",
    "\n"
   ]
  },
  {
   "cell_type": "markdown",
   "id": "91456d64-22f5-4725-ba4e-bfe171b0a9b5",
   "metadata": {},
   "source": [
    "## Requirement 1: Create Plots to Showcase the Relationship Between Weather Variables and Latitude\n",
    "\n",
    "### Use the OpenWeatherMap API to retrieve weather data from the cities list generated in the started code"
   ]
  },
  {
   "cell_type": "code",
   "execution_count": null,
   "id": "3b912e73-d2db-46a8-9594-2a2dd1baec34",
   "metadata": {
    "tags": []
   },
   "outputs": [
    {
     "name": "stdout",
     "output_type": "stream",
     "text": [
      "Beginning Data Retrieval     \n",
      "-----------------------------\n",
      "Processing Record 1 of Set 1 | vingt cinq\n",
      "City not found. Skipping...\n",
      "Processing Record 2 of Set 1 | grytviken\n",
      "Processing Record 3 of Set 1 | horodyshche\n",
      "Processing Record 4 of Set 1 | taiohae\n",
      "City not found. Skipping...\n",
      "Processing Record 5 of Set 1 | saudarkrokur\n",
      "Processing Record 6 of Set 1 | cabedelo\n",
      "Processing Record 7 of Set 1 | invercargill\n",
      "Processing Record 8 of Set 1 | kodiak\n",
      "Processing Record 9 of Set 1 | port-aux-francais\n",
      "Processing Record 10 of Set 1 | keflavik\n",
      "Processing Record 11 of Set 1 | nadezhda\n",
      "Processing Record 12 of Set 1 | fort bragg\n",
      "Processing Record 13 of Set 1 | coaraci\n",
      "Processing Record 14 of Set 1 | alofi\n",
      "Processing Record 15 of Set 1 | waitangi\n",
      "Processing Record 16 of Set 1 | san antonio de pale\n",
      "Processing Record 17 of Set 1 | bani walid\n",
      "Processing Record 18 of Set 1 | bethel\n",
      "Processing Record 19 of Set 1 | boulsa\n",
      "Processing Record 20 of Set 1 | polyarnyy\n",
      "Processing Record 21 of Set 1 | port-vila\n",
      "Processing Record 22 of Set 1 | college\n",
      "Processing Record 23 of Set 1 | sitka\n",
      "Processing Record 24 of Set 1 | east london\n",
      "Processing Record 25 of Set 1 | palikir - national government center\n",
      "Processing Record 26 of Set 1 | bilibino\n",
      "Processing Record 27 of Set 1 | tefe\n",
      "Processing Record 28 of Set 1 | essaouira\n",
      "Processing Record 29 of Set 1 | crolles\n",
      "Processing Record 30 of Set 1 | badger\n",
      "Processing Record 31 of Set 1 | tangalle\n",
      "Processing Record 32 of Set 1 | luwuk\n",
      "Processing Record 33 of Set 1 | ocean pointe\n",
      "City not found. Skipping...\n",
      "Processing Record 34 of Set 1 | hawaiian paradise park\n",
      "Processing Record 35 of Set 1 | aykhal\n",
      "Processing Record 36 of Set 1 | labuan\n",
      "Processing Record 37 of Set 1 | touros\n",
      "Processing Record 38 of Set 1 | pahrump\n",
      "Processing Record 39 of Set 1 | hermanus\n",
      "Processing Record 40 of Set 1 | new norfolk\n",
      "Processing Record 41 of Set 1 | geraldton\n",
      "Processing Record 42 of Set 1 | kavaratti\n",
      "Processing Record 43 of Set 1 | yellowknife\n",
      "Processing Record 44 of Set 1 | ilulissat\n",
      "Processing Record 45 of Set 1 | mar del plata\n",
      "Processing Record 46 of Set 1 | belaya kholunitsa\n",
      "Processing Record 47 of Set 1 | karratha\n",
      "Processing Record 48 of Set 1 | ribeira grande\n",
      "Processing Record 49 of Set 1 | greenville\n",
      "Processing Record 50 of Set 1 | ghadamis\n",
      "Processing Record 0 of Set 2 | vadso\n",
      "Processing Record 1 of Set 2 | thompson\n",
      "Processing Record 2 of Set 2 | puerto natales\n",
      "Processing Record 3 of Set 2 | kayar\n",
      "Processing Record 4 of Set 2 | papatowai\n",
      "Processing Record 5 of Set 2 | ploneour-lanvern\n",
      "Processing Record 6 of Set 2 | tegueste\n",
      "Processing Record 7 of Set 2 | tazovsky\n",
      "Processing Record 8 of Set 2 | lebu\n",
      "Processing Record 9 of Set 2 | west island\n",
      "Processing Record 10 of Set 2 | cabo san lucas\n",
      "Processing Record 11 of Set 2 | balsas\n",
      "Processing Record 12 of Set 2 | bredasdorp\n",
      "Processing Record 13 of Set 2 | bubaque\n",
      "Processing Record 14 of Set 2 | vorgashor\n",
      "Processing Record 15 of Set 2 | pampa\n",
      "Processing Record 16 of Set 2 | olinda\n",
      "Processing Record 17 of Set 2 | haiku-pauwela\n",
      "Processing Record 18 of Set 2 | puerto ayora\n",
      "Processing Record 19 of Set 2 | adamstown\n",
      "Processing Record 20 of Set 2 | concepcion\n",
      "Processing Record 21 of Set 2 | port pirie\n",
      "Processing Record 22 of Set 2 | ushuaia\n",
      "Processing Record 23 of Set 2 | krasnovishersk\n",
      "Processing Record 24 of Set 2 | fale old settlement\n",
      "Processing Record 25 of Set 2 | wagar\n",
      "Processing Record 26 of Set 2 | wailua homesteads\n",
      "Processing Record 27 of Set 2 | nemuro\n",
      "Processing Record 28 of Set 2 | vilyuchinsk\n",
      "Processing Record 29 of Set 2 | gomez palacio\n",
      "Processing Record 30 of Set 2 | whitehorse\n",
      "Processing Record 31 of Set 2 | saipan\n",
      "Processing Record 32 of Set 2 | susuman\n",
      "Processing Record 33 of Set 2 | margaret river\n",
      "Processing Record 34 of Set 2 | iqaluit\n",
      "Processing Record 35 of Set 2 | port mathurin\n",
      "Processing Record 36 of Set 2 | longyearbyen\n",
      "Processing Record 37 of Set 2 | collie\n",
      "Processing Record 38 of Set 2 | holualoa\n",
      "Processing Record 39 of Set 2 | ghat\n",
      "Processing Record 40 of Set 2 | punta arenas\n",
      "Processing Record 41 of Set 2 | trairi\n",
      "Processing Record 42 of Set 2 | port elizabeth\n",
      "Processing Record 43 of Set 2 | illizi\n"
     ]
    }
   ],
   "source": [
    "# Set the API base URL\n",
    "url = \"http://api.openweathermap.org/data/2.5/weather?\"\n",
    "units = \"metric\"\n",
    "\n",
    "# Define an empty list to fetch the weather data for each city\n",
    "city_data = []\n",
    "\n",
    "# Print to logger\n",
    "print(\"Beginning Data Retrieval     \")\n",
    "print(\"-----------------------------\")\n",
    "\n",
    "# Create counters\n",
    "record_count = 1\n",
    "set_count = 1\n",
    "\n",
    "# Loop through all the cities in our list to fetch weather data\n",
    "for i, city in enumerate(cities):\n",
    "        \n",
    "    # Group cities in sets of 50 for logging purposes\n",
    "    if (i % 50 == 0 and i >= 50):\n",
    "        set_count += 1\n",
    "        record_count = 0\n",
    "\n",
    "    # Create endpoint URL with each city\n",
    "    city_url = f'{url}appid={weather_api_key}&units={units}&q={city}'\n",
    "    \n",
    "    \n",
    "    # Log the url, record, and set numbers\n",
    "    time.sleep(1)\n",
    "    print(\"Processing Record %s of Set %s | %s\" % (record_count, set_count, city))\n",
    "\n",
    "    # Add 1 to the record count\n",
    "    record_count += 1\n",
    "\n",
    "    # Run an API request for each of the cities\n",
    "    try:\n",
    "        # Parse the JSON and retrieve data\n",
    "        city_weather = requests.get(city_url)\n",
    "        weather_json = city_weather.json()\n",
    "\n",
    "        # Parse out latitude, longitude, max temp, humidity, cloudiness, wind speed, country, and date\n",
    "        city_lat = weather_json['coord']['lat']\n",
    "        city_lng = weather_json['coord']['lon']\n",
    "        city_max_temp = weather_json['main']['temp_max']\n",
    "        city_humidity = weather_json['main']['humidity']\n",
    "        city_clouds = weather_json['clouds']['all']\n",
    "        city_wind = weather_json['wind']['speed']\n",
    "        city_country = weather_json['sys']['country']\n",
    "        city_date = weather_json['dt']\n",
    "        \n",
    "\n",
    "        # Append the City information into city_data list\n",
    "        city_data.append({\"City\": city, \n",
    "                          \"Lat\": city_lat, \n",
    "                          \"Lng\": city_lng, \n",
    "                          \"Max Temp\": city_max_temp,\n",
    "                          \"Humidity\": city_humidity,\n",
    "                          \"Cloudiness\": city_clouds,\n",
    "                          \"Wind Speed\": city_wind,\n",
    "                          \"Country\": city_country,\n",
    "                          \"Date\": city_date})\n",
    "\n",
    "    # If an error is experienced, skip the city\n",
    "    except:\n",
    "        print(\"City not found. Skipping...\")\n",
    "        pass\n",
    "              \n",
    "# Indicate that Data Loading is complete \n",
    "print(\"-----------------------------\")\n",
    "print(\"Data Retrieval Complete      \")\n",
    "print(\"-----------------------------\")"
   ]
  },
  {
   "cell_type": "code",
   "execution_count": null,
   "id": "5a4fc287-695f-4f2e-9136-89b94604a1c5",
   "metadata": {},
   "outputs": [],
   "source": [
    "# Convert the cities weather data into a Pandas DataFrame\n",
    "city_data_df = pd.DataFrame(city_data)\n",
    "\n",
    "# Show Record Count\n",
    "city_data_df"
   ]
  },
  {
   "cell_type": "code",
   "execution_count": null,
   "id": "c2e27603-e9b7-4cb0-8ad4-f3c45e00ead7",
   "metadata": {},
   "outputs": [],
   "source": [
    "# Display sample data\n",
    "city_data_df.head()"
   ]
  },
  {
   "cell_type": "code",
   "execution_count": null,
   "id": "b9086367-5209-44f2-a810-6d7045736dc1",
   "metadata": {},
   "outputs": [],
   "source": [
    "# Export the City_Data into a csv\n",
    "city_data_df.to_csv(\"output_data/cities.csv\", index_label=\"City_ID\")"
   ]
  },
  {
   "cell_type": "code",
   "execution_count": null,
   "id": "31d3e024-c585-49dd-ba7d-fda5041db191",
   "metadata": {},
   "outputs": [],
   "source": [
    "# Read saved data\n",
    "city_data_df = pd.read_csv(\"output_data/cities.csv\", index_col=\"City_ID\")\n",
    "\n",
    "# Display sample data\n",
    "city_data_df.head()"
   ]
  },
  {
   "cell_type": "markdown",
   "id": "211066f8-0953-4c16-ae65-51cd4881bce6",
   "metadata": {},
   "source": [
    "### Create the Scatter Plots Requested\n",
    "\n",
    "#### Latitude Vs. Temperature"
   ]
  },
  {
   "cell_type": "code",
   "execution_count": null,
   "id": "ddf64da5-1855-4fba-84f4-db0fd9c44f0a",
   "metadata": {},
   "outputs": [],
   "source": [
    "# Build scatter plot for latitude vs. temperature\n",
    "plt.scatter(city_data_df['Lat'],city_data_df['Max Temp'])\n",
    "\n",
    "# Incorporate the other graph properties\n",
    "plt.xlabel(\"Latitude\")\n",
    "plt.ylabel(\"Max Temperature (C)\")\n",
    "plt.title(\"City Max Latitude vs. Temperature\")\n",
    "plt.grid(True)\n",
    "\n",
    "# Save the figure\n",
    "plt.savefig(\"output_data/Fig1.png\")\n",
    "\n",
    "# Show plot\n",
    "plt.show()"
   ]
  },
  {
   "cell_type": "markdown",
   "id": "adf46674-8e44-4eee-b584-c58bfdb50454",
   "metadata": {},
   "source": [
    "#### Latitude Vs. Humidity"
   ]
  },
  {
   "cell_type": "code",
   "execution_count": null,
   "id": "32d21425-c572-4112-bc11-c596bf230e46",
   "metadata": {},
   "outputs": [],
   "source": [
    "# Build the scatter plots for latitude vs. humidity\n",
    "plt.scatter(city_data_df['Lat'],city_data_df['Humidity'])\n",
    "\n",
    "# Incorporate the other graph properties\n",
    "plt.xlabel(\"Latitude\")\n",
    "plt.ylabel(\"Humidity (%)\")\n",
    "plt.title(\"City Latitude vs. Humidity\")\n",
    "plt.grid(True)\n",
    "\n",
    "# Save the figure\n",
    "plt.savefig(\"output_data/Fig2.png\")\n",
    "\n",
    "# Show plot\n",
    "plt.show()\n",
    "\n"
   ]
  },
  {
   "cell_type": "markdown",
   "id": "fd9b6f9c-b106-4212-8516-aab96d081a8c",
   "metadata": {},
   "source": [
    "#### Latitude Vs. Cloudiness"
   ]
  },
  {
   "cell_type": "code",
   "execution_count": null,
   "id": "95e510c3-3a51-4708-a9fc-e992f216f931",
   "metadata": {
    "jupyter": {
     "source_hidden": true
    },
    "tags": []
   },
   "outputs": [],
   "source": [
    "# Build the scatter plots for latitude vs. humidity\n",
    "plt.scatter(city_data_df['Lat'],city_data_df['Cloudiness'])\n",
    "\n",
    "# Incorporate the other graph properties\n",
    "plt.xlabel(\"Latitude\")\n",
    "plt.ylabel(\"Cloudiness (%)\")\n",
    "plt.title(\"City Latitude vs. Cloudiness\")\n",
    "plt.grid(True)\n",
    "\n",
    "# Save the figure\n",
    "plt.savefig(\"output_data/Fig3.png\")\n",
    "\n",
    "# Show plot\n",
    "plt.show()"
   ]
  },
  {
   "cell_type": "markdown",
   "id": "64e88fcd-26e4-476f-b33d-27142ec4f792",
   "metadata": {},
   "source": [
    "#### Latitude vs. Wind Speed Plot"
   ]
  },
  {
   "cell_type": "code",
   "execution_count": null,
   "id": "51cc92ee-e0a2-4409-bc68-fc5fb9fbe3ca",
   "metadata": {},
   "outputs": [],
   "source": [
    "# Build the scatter plots for latitude vs. wind speed\n",
    "plt.scatter(city_data_df['Lat'],city_data_df['Wind Speed'])\n",
    "\n",
    "# Incorporate the other graph properties\n",
    "plt.xlabel(\"Latitude\")\n",
    "plt.ylabel(\"Wind Speed (m/s)\")\n",
    "plt.title(\"City Latitude vs. Wind Speed\")\n",
    "plt.grid(True)\n",
    "\n",
    "# Save the figure\n",
    "plt.savefig(\"output_data/Fig4.png\")\n",
    "\n",
    "# Show plot\n",
    "plt.show()"
   ]
  },
  {
   "cell_type": "markdown",
   "id": "1f3c3f2a-7518-4d3c-bb97-eed13d23dbd9",
   "metadata": {},
   "source": [
    "---\n",
    "\n",
    "## Requirement 2: Compute Linear Regression for Each Relationship\n"
   ]
  },
  {
   "cell_type": "code",
   "execution_count": null,
   "id": "b89b46be-6126-4548-b911-d77064a177f8",
   "metadata": {
    "tags": []
   },
   "outputs": [],
   "source": [
    "# Define a function to create Linear Regression plots\n",
    "from scipy.stats import linregress"
   ]
  },
  {
   "cell_type": "code",
   "execution_count": null,
   "id": "3764e928-7d66-4910-8fc8-c6be3f8867b2",
   "metadata": {
    "tags": []
   },
   "outputs": [],
   "source": [
    "# Create a DataFrame with the Northern Hemisphere data (Latitude >= 0)\n",
    "northern_hemi_df = city_data_df.loc[city_data_df['Lat'] >= 0]\n",
    "\n",
    "# Display sample data\n",
    "northern_hemi_df.head()"
   ]
  },
  {
   "cell_type": "code",
   "execution_count": null,
   "id": "72d8f6e5-23c2-476b-854f-a4eb427f047a",
   "metadata": {
    "tags": []
   },
   "outputs": [],
   "source": [
    "# Create a DataFrame with the Southern Hemisphere data (Latitude < 0)\n",
    "southern_hemi_df = city_data_df.loc[city_data_df['Lat'] < 0]\n",
    "\n",
    "# Display sample data\n",
    "southern_hemi_df.head()"
   ]
  },
  {
   "cell_type": "markdown",
   "id": "b99633b1-bd7f-4943-9e03-bffb900ba5dd",
   "metadata": {},
   "source": [
    "###  Temperature vs. Latitude Linear Regression Plot"
   ]
  },
  {
   "cell_type": "code",
   "execution_count": null,
   "id": "6a4054d5-69b8-4ba1-b90e-65a65537d4e9",
   "metadata": {
    "tags": []
   },
   "outputs": [],
   "source": [
    "# Linear regression on Northern Hemisphere\n",
    "x_values = northern_hemi_df['Max Temp']\n",
    "y_values = northern_hemi_df['Lat']\n",
    "\n",
    "(slope, intercept, rvalue, pvalue, stderr) = linregress(x_values, y_values)\n",
    "regress_values = x_values * slope + intercept\n",
    "line_eq = \"y = \" + str(round(slope,2)) + \"x + \" + str(round(intercept,2))\n",
    "\n",
    "print(f'The r-value is: {rvalue}')\n",
    "\n",
    "plt.scatter(x_values,y_values)\n",
    "plt.plot(x_values,regress_values,\"r-\")\n",
    "plt.annotate(line_eq,(2,20),fontsize=16,color=\"blue\")\n",
    "plt.xlabel('Temperature (C)')\n",
    "plt.ylabel('Latitude')\n",
    "plt.show()"
   ]
  },
  {
   "cell_type": "code",
   "execution_count": null,
   "id": "cf3ba9c4-124a-47ac-8ed4-66f28e92a9bd",
   "metadata": {
    "tags": []
   },
   "outputs": [],
   "source": [
    "# Linear regression on Southern Hemisphere\n",
    "x_values = southern_hemi_df['Max Temp']\n",
    "y_values = southern_hemi_df['Lat']\n",
    "\n",
    "(slope, intercept, rvalue, pvalue, stderr) = linregress(x_values, y_values)\n",
    "regress_values = x_values * slope + intercept\n",
    "line_eq = \"y = \" + str(round(slope,2)) + \"x + \" + str(round(intercept,2))\n",
    "\n",
    "print(f'The r-value is: {rvalue}')\n",
    "\n",
    "plt.scatter(x_values,y_values)\n",
    "plt.plot(x_values,regress_values,\"r-\")\n",
    "plt.annotate(line_eq,(15,-55),fontsize=16,color=\"blue\")\n",
    "plt.xlabel('Temperature (C)')\n",
    "plt.ylabel('Latitude')\n",
    "plt.show()"
   ]
  },
  {
   "cell_type": "markdown",
   "id": "f98ff8e2-107a-4fd6-920a-fa88b9d33b1e",
   "metadata": {},
   "source": [
    "# Discussion: \n",
    "## Temperature and Latitude appear to have a strong relationship in both the Northern and Southern hemispheres. Strong negative correlation in the Northern Hemisphere, and strong positive in the Southern Hemisphere."
   ]
  },
  {
   "cell_type": "markdown",
   "id": "22bfa02a-65fe-42ee-8ba9-cfa84b938f55",
   "metadata": {},
   "source": [
    "### Humidity vs. Latitude Linear Regression Plot"
   ]
  },
  {
   "cell_type": "code",
   "execution_count": null,
   "id": "c7921a0e-243c-47d6-9b69-140c182f4123",
   "metadata": {
    "tags": []
   },
   "outputs": [],
   "source": [
    "# Northern Hemisphere\n",
    "x_values = northern_hemi_df['Humidity']\n",
    "y_values = northern_hemi_df['Lat']\n",
    "\n",
    "(slope, intercept, rvalue, pvalue, stderr) = linregress(x_values, y_values)\n",
    "regress_values = x_values * slope + intercept\n",
    "line_eq = \"y = \" + str(round(slope,2)) + \"x + \" + str(round(intercept,2))\n",
    "\n",
    "print(f'The r-value is: {rvalue}')\n",
    "\n",
    "plt.scatter(x_values,y_values)\n",
    "plt.plot(x_values,regress_values,\"r-\")\n",
    "plt.annotate(line_eq,(20,5),fontsize=16,color=\"blue\")\n",
    "plt.xlabel('Humidity')\n",
    "plt.ylabel('Latitude')\n",
    "plt.show()"
   ]
  },
  {
   "cell_type": "code",
   "execution_count": null,
   "id": "cbadb9de-15f7-40d6-a296-7aa6bc0f5084",
   "metadata": {
    "tags": []
   },
   "outputs": [],
   "source": [
    "# Southern Hemisphere\n",
    "x_values = southern_hemi_df['Humidity']\n",
    "y_values = southern_hemi_df['Lat']\n",
    "\n",
    "(slope, intercept, rvalue, pvalue, stderr) = linregress(x_values, y_values)\n",
    "regress_values = x_values * slope + intercept\n",
    "line_eq = \"y = \" + str(round(slope,2)) + \"x + \" + str(round(intercept,2))\n",
    "\n",
    "print(f'The r-value is: {rvalue}')\n",
    "\n",
    "plt.scatter(x_values,y_values)\n",
    "plt.plot(x_values,regress_values,\"r-\")\n",
    "plt.annotate(line_eq,(15,-55),fontsize=16,color=\"blue\")\n",
    "plt.xlabel('Humidity')\n",
    "plt.ylabel('Latitude')\n",
    "plt.show()"
   ]
  },
  {
   "cell_type": "markdown",
   "id": "f9800ff1-9abd-4085-98ec-852925ad070b",
   "metadata": {},
   "source": [
    "# Discussion: \n",
    "## Wind Speed and Latitude do not appear to have a strong relationship in neither the Northern nor Southern hemispheres. Possible positive correlation, but more data is needed."
   ]
  },
  {
   "cell_type": "markdown",
   "id": "d49bfb94-2fd0-408d-92ab-3e1e05a02107",
   "metadata": {},
   "source": [
    "### Cloudiness vs. Latitude Linear Regression Plot"
   ]
  },
  {
   "cell_type": "code",
   "execution_count": null,
   "id": "726e8263-40fb-4bd7-94b0-00274ab4db8d",
   "metadata": {
    "tags": []
   },
   "outputs": [],
   "source": [
    "# Northern Hemisphere\n",
    "x_values = northern_hemi_df['Cloudiness']\n",
    "y_values = northern_hemi_df['Lat']\n",
    "\n",
    "(slope, intercept, rvalue, pvalue, stderr) = linregress(x_values, y_values)\n",
    "regress_values = x_values * slope + intercept\n",
    "line_eq = \"y = \" + str(round(slope,2)) + \"x + \" + str(round(intercept,2))\n",
    "\n",
    "print(f'The r-value is: {rvalue}')\n",
    "\n",
    "plt.scatter(x_values,y_values)\n",
    "plt.plot(x_values,regress_values,\"r-\")\n",
    "plt.annotate(line_eq,(20,75),fontsize=16,color=\"blue\")\n",
    "plt.xlabel('Cloudiness')\n",
    "plt.ylabel('Latitude')\n",
    "plt.show()\n"
   ]
  },
  {
   "cell_type": "code",
   "execution_count": null,
   "id": "8ff37ffb-7264-40f4-9602-356b8bec5318",
   "metadata": {
    "tags": []
   },
   "outputs": [],
   "source": [
    "# Southern Hemisphere\n",
    "x_values = southern_hemi_df['Cloudiness']\n",
    "y_values = southern_hemi_df['Lat']\n",
    "\n",
    "(slope, intercept, rvalue, pvalue, stderr) = linregress(x_values, y_values)\n",
    "regress_values = x_values * slope + intercept\n",
    "line_eq = \"y = \" + str(round(slope,2)) + \"x + \" + str(round(intercept,2))\n",
    "\n",
    "print(f'The r-value is: {rvalue}')\n",
    "\n",
    "plt.scatter(x_values,y_values)\n",
    "plt.plot(x_values,regress_values,\"r-\")\n",
    "plt.annotate(line_eq,(15,-55),fontsize=16,color=\"blue\")\n",
    "plt.xlabel('Cloudiness')\n",
    "plt.ylabel('Latitude')\n",
    "plt.show()\n",
    "\n"
   ]
  },
  {
   "cell_type": "markdown",
   "id": "1c4d5d7f-255d-4a1c-af15-bb84a4f84eac",
   "metadata": {},
   "source": [
    "# Discussion: \n",
    "## Cloudiness and Latitude do not appear to have a strong relationship in neither the Northern nor Southern hemispheres"
   ]
  },
  {
   "cell_type": "markdown",
   "id": "f61ae66a-06d6-42e8-93ce-6617fa19e0d9",
   "metadata": {},
   "source": [
    "### Wind Speed vs. Latitude Linear Regression Plot"
   ]
  },
  {
   "cell_type": "code",
   "execution_count": null,
   "id": "0940e035-6570-450a-9497-f6ec23c916f6",
   "metadata": {
    "tags": []
   },
   "outputs": [],
   "source": [
    "# Northern Hemisphere\n",
    "x_values = northern_hemi_df['Wind Speed']\n",
    "y_values = northern_hemi_df['Lat']\n",
    "\n",
    "(slope, intercept, rvalue, pvalue, stderr) = linregress(x_values, y_values)\n",
    "regress_values = x_values * slope + intercept\n",
    "line_eq = \"y = \" + str(round(slope,2)) + \"x + \" + str(round(intercept,2))\n",
    "\n",
    "print(f'The r-value is: {rvalue}')\n",
    "\n",
    "plt.scatter(x_values,y_values)\n",
    "plt.plot(x_values,regress_values,\"r-\")\n",
    "plt.annotate(line_eq,(7,70),fontsize=16,color=\"blue\")\n",
    "plt.xlabel('Wind Speed')\n",
    "plt.ylabel('Latitude')\n",
    "plt.show()\n"
   ]
  },
  {
   "cell_type": "code",
   "execution_count": null,
   "id": "b277b8c7-1f23-47a4-a791-777edb54def9",
   "metadata": {
    "tags": []
   },
   "outputs": [],
   "source": [
    "# Southern Hemisphere\n",
    "y_values = southern_hemi_df['Lat']\n",
    "x_values = southern_hemi_df['Wind Speed']\n",
    "\n",
    "(slope, intercept, rvalue, pvalue, stderr) = linregress(x_values, y_values)\n",
    "regress_values = x_values * slope + intercept\n",
    "line_eq = \"y = \" + str(round(slope,2)) + \"x + \" + str(round(intercept,2))\n",
    "\n",
    "print(f'The r-value is: {rvalue}')\n",
    "\n",
    "plt.scatter(x_values,y_values)\n",
    "plt.plot(x_values,regress_values,\"r-\")\n",
    "plt.annotate(line_eq,(10,-5),fontsize=16,color=\"blue\")\n",
    "plt.xlabel('Wind Speed')\n",
    "plt.ylabel('Latitude')\n",
    "plt.show()\n"
   ]
  },
  {
   "cell_type": "markdown",
   "id": "82e9d78a-a670-45ce-bb2d-064b618a50b0",
   "metadata": {},
   "source": [
    "# Discussion: \n",
    "## Wind Speed and Latitude do not appear to have a strong relationship in neither the Northern nor Southern hemispheres. Possible negative correlation, but more data is needed."
   ]
  },
  {
   "cell_type": "code",
   "execution_count": null,
   "id": "8023e8c0-5a00-4dfc-a158-35a77276c885",
   "metadata": {},
   "outputs": [],
   "source": []
  }
 ],
 "metadata": {
  "kernelspec": {
   "display_name": "Python 3 (ipykernel)",
   "language": "python",
   "name": "python3"
  },
  "language_info": {
   "codemirror_mode": {
    "name": "ipython",
    "version": 3
   },
   "file_extension": ".py",
   "mimetype": "text/x-python",
   "name": "python",
   "nbconvert_exporter": "python",
   "pygments_lexer": "ipython3",
   "version": "3.9.16"
  }
 },
 "nbformat": 4,
 "nbformat_minor": 5
}
